{
  "cells": [
    {
      "cell_type": "code",
      "source": [
        "import json\n",
        "import numpy as np\n",
        "import tensorflow as tf\n",
        "from tensorflow.keras.models import Model\n",
        "from tensorflow.keras.layers import Input, Dense\n",
        "from sklearn.preprocessing import LabelEncoder\n",
        "\n",
        "# Mapeamento dos graus\n",
        "graus = [\"estavel\", \"leve\", \"mediana\", \"alta\"]\n",
        "\n",
        "# Carregar os dados do JSON\n",
        "with open('dados-proc-reborn.json', 'r') as f:\n",
        "    dados = json.load(f)\n",
        "\n",
        "# Corrigir inversão entre grau e variacao\n",
        "for d in dados:\n",
        "    # Corrige ictericia\n",
        "    if isinstance(d[\"grau_ictericia\"], (int, float)):\n",
        "        d[\"variacao_ictericia\"], d[\"grau_ictericia\"] = d[\"grau_ictericia\"], d[\"variacao_ictericia\"]\n",
        "    # Corrige cianose\n",
        "    if isinstance(d[\"grau_cianose\"], (int, float)):\n",
        "        d[\"variacao_cianose\"], d[\"grau_cianose\"] = d[\"grau_cianose\"], d[\"variacao_cianose\"]\n",
        "\n",
        "# Converter graus numéricos para nomes (caso estejam como 0, 1, 2, 3)\n",
        "for d in dados:\n",
        "    if isinstance(d[\"grau_ictericia\"], int) or str(d[\"grau_ictericia\"]).isdigit():\n",
        "        d[\"grau_ictericia\"] = graus[int(d[\"grau_ictericia\"])]\n",
        "    if isinstance(d[\"grau_cianose\"], int) or str(d[\"grau_cianose\"]).isdigit():\n",
        "        d[\"grau_cianose\"] = graus[int(d[\"grau_cianose\"])]\n",
        "\n",
        "# Salvar os dados corrigidos\n",
        "with open('dados_corrigidos.json', 'w') as f:\n",
        "    json.dump(dados, f, indent=4)\n",
        "\n",
        "# Pré-processamento\n",
        "X = [d[\"rgb_ant\"] + d[\"rgb_atu\"] for d in dados]\n",
        "X = np.array(X, dtype=np.float32)\n",
        "\n",
        "var_ictericia = np.array([d[\"variacao_ictericia\"] for d in dados], dtype=np.float32)\n",
        "var_cianose = np.array([d[\"variacao_cianose\"] for d in dados], dtype=np.float32)\n",
        "\n",
        "# Encoder para graus\n",
        "label_encoder = LabelEncoder()\n",
        "label_encoder.fit(graus)\n",
        "\n",
        "\n",
        "# Modelo\n",
        "entrada = Input(shape=(6,))\n",
        "x = Dense(128, activation='relu')(entrada)\n",
        "x = Dense(64, activation='relu')(x)\n",
        "x = Dense(32, activation='relu')(x)\n",
        "x = Dense(16, activation='relu')(x)\n",
        "x = Dense(16, activation='relu')(x)\n",
        "out_var_ictericia = Dense(1, name='variacao_ictericia')(x)\n",
        "out_var_cianose = Dense(1, name='variacao_cianose')(x)\n",
        "\n",
        "\n",
        "model = Model(inputs=entrada, outputs=[\n",
        "    out_var_ictericia,\n",
        "    out_var_cianose\n",
        "])\n",
        "\n",
        "model.compile(\n",
        "    optimizer='adam',\n",
        "    loss={\n",
        "        'variacao_ictericia': 'mse',\n",
        "        'variacao_cianose': 'mse',\n",
        "        },\n",
        "    metrics={\n",
        "        'variacao_ictericia': 'mse',\n",
        "        'variacao_cianose': 'mse',\n",
        "        }\n",
        ")\n",
        "\n",
        "model.fit(\n",
        "    X,\n",
        "    {\n",
        "        'variacao_ictericia': var_ictericia,\n",
        "        'variacao_cianose': var_cianose,\n",
        "    },\n",
        "    epochs=10, verbose=1\n",
        ")\n",
        "\n",
        "model.save(\"modelo_ictericia_cianose.keras\")\n"
      ],
      "metadata": {
        "colab": {
          "base_uri": "https://localhost:8080/"
        },
        "id": "-_jeyl4qtgoj",
        "outputId": "51f7f76f-23ae-4c6b-f70d-b17e4f55e16e"
      },
      "execution_count": null,
      "outputs": [
        {
          "output_type": "stream",
          "name": "stdout",
          "text": [
            "Epoch 1/10\n",
            "\u001b[1m6250/6250\u001b[0m \u001b[32m━━━━━━━━━━━━━━━━━━━━\u001b[0m\u001b[37m\u001b[0m \u001b[1m20s\u001b[0m 3ms/step - loss: 206.3349 - variacao_cianose_loss: 90.1206 - variacao_cianose_mse: 90.1206 - variacao_ictericia_loss: 116.2141 - variacao_ictericia_mse: 116.2141\n",
            "Epoch 2/10\n",
            "\u001b[1m6250/6250\u001b[0m \u001b[32m━━━━━━━━━━━━━━━━━━━━\u001b[0m\u001b[37m\u001b[0m \u001b[1m16s\u001b[0m 3ms/step - loss: 19.7165 - variacao_cianose_loss: 5.2865 - variacao_cianose_mse: 5.2865 - variacao_ictericia_loss: 14.4299 - variacao_ictericia_mse: 14.4299\n",
            "Epoch 3/10\n",
            "\u001b[1m6250/6250\u001b[0m \u001b[32m━━━━━━━━━━━━━━━━━━━━\u001b[0m\u001b[37m\u001b[0m \u001b[1m16s\u001b[0m 3ms/step - loss: 15.4088 - variacao_cianose_loss: 3.7482 - variacao_cianose_mse: 3.7482 - variacao_ictericia_loss: 11.6606 - variacao_ictericia_mse: 11.6606\n",
            "Epoch 4/10\n",
            "\u001b[1m6250/6250\u001b[0m \u001b[32m━━━━━━━━━━━━━━━━━━━━\u001b[0m\u001b[37m\u001b[0m \u001b[1m16s\u001b[0m 3ms/step - loss: 13.3962 - variacao_cianose_loss: 2.9200 - variacao_cianose_mse: 2.9200 - variacao_ictericia_loss: 10.4762 - variacao_ictericia_mse: 10.4762\n",
            "Epoch 5/10\n",
            "\u001b[1m6250/6250\u001b[0m \u001b[32m━━━━━━━━━━━━━━━━━━━━\u001b[0m\u001b[37m\u001b[0m \u001b[1m17s\u001b[0m 3ms/step - loss: 12.4428 - variacao_cianose_loss: 2.6042 - variacao_cianose_mse: 2.6042 - variacao_ictericia_loss: 9.8386 - variacao_ictericia_mse: 9.8386\n",
            "Epoch 6/10\n",
            "\u001b[1m6250/6250\u001b[0m \u001b[32m━━━━━━━━━━━━━━━━━━━━\u001b[0m\u001b[37m\u001b[0m \u001b[1m20s\u001b[0m 3ms/step - loss: 12.5565 - variacao_cianose_loss: 2.5961 - variacao_cianose_mse: 2.5961 - variacao_ictericia_loss: 9.9605 - variacao_ictericia_mse: 9.9605\n",
            "Epoch 7/10\n",
            "\u001b[1m6250/6250\u001b[0m \u001b[32m━━━━━━━━━━━━━━━━━━━━\u001b[0m\u001b[37m\u001b[0m \u001b[1m21s\u001b[0m 3ms/step - loss: 12.0014 - variacao_cianose_loss: 2.3937 - variacao_cianose_mse: 2.3937 - variacao_ictericia_loss: 9.6077 - variacao_ictericia_mse: 9.6077\n",
            "Epoch 8/10\n",
            "\u001b[1m6250/6250\u001b[0m \u001b[32m━━━━━━━━━━━━━━━━━━━━\u001b[0m\u001b[37m\u001b[0m \u001b[1m26s\u001b[0m 3ms/step - loss: 11.2331 - variacao_cianose_loss: 2.1144 - variacao_cianose_mse: 2.1144 - variacao_ictericia_loss: 9.1187 - variacao_ictericia_mse: 9.1187\n",
            "Epoch 9/10\n",
            "\u001b[1m6250/6250\u001b[0m \u001b[32m━━━━━━━━━━━━━━━━━━━━\u001b[0m\u001b[37m\u001b[0m \u001b[1m17s\u001b[0m 3ms/step - loss: 10.8876 - variacao_cianose_loss: 2.0178 - variacao_cianose_mse: 2.0178 - variacao_ictericia_loss: 8.8698 - variacao_ictericia_mse: 8.8698\n",
            "Epoch 10/10\n",
            "\u001b[1m6250/6250\u001b[0m \u001b[32m━━━━━━━━━━━━━━━━━━━━\u001b[0m\u001b[37m\u001b[0m \u001b[1m20s\u001b[0m 3ms/step - loss: 10.9273 - variacao_cianose_loss: 2.0357 - variacao_cianose_mse: 2.0357 - variacao_ictericia_loss: 8.8916 - variacao_ictericia_mse: 8.8916\n"
          ]
        }
      ]
    },
    {
      "cell_type": "code",
      "source": [
        "\n",
        "def prever(rgb_ant, rgb_atu):\n",
        "    entrada = np.array([rgb_ant + rgb_atu], dtype=np.float32)\n",
        "\n",
        "    # Faz a predição\n",
        "    saida_var_ictericia, \\\n",
        "    saida_var_cianose = model.predict(entrada, verbose=0)\n",
        "\n",
        "    # ICETÍCIA\n",
        "    var_ictericia = float(saida_var_ictericia[0][0])\n",
        "\n",
        "    # CIANOSE\n",
        "    var_cianose = float(saida_var_cianose[0][0])\n",
        "    return {\n",
        "        \"variacao_ictericia\": round(var_ictericia, 2),\n",
        "        \"variacao_cianose\": round(var_cianose, 2)\n",
        "    }\n",
        "\n",
        "# Exemplo:\n",
        "print(prever([160, 104, 50], [ 160, 104, 50]))\n",
        "\n",
        "print(prever( [209, 162, 128], [223, 180, 158]))\n",
        "\n",
        "print(prever( [209, 162, 128], [140, 118, 130]))"
      ],
      "metadata": {
        "colab": {
          "base_uri": "https://localhost:8080/"
        },
        "id": "RJysU-Cot_jN",
        "outputId": "7e415ebc-8775-4e56-8748-3f322cff5534"
      },
      "execution_count": null,
      "outputs": [
        {
          "output_type": "stream",
          "name": "stdout",
          "text": [
            "{'variacao_ictericia': 0.42, 'variacao_cianose': -0.51}\n",
            "{'variacao_ictericia': -36.19, 'variacao_cianose': -0.15}\n",
            "{'variacao_ictericia': -0.12, 'variacao_cianose': 113.89}\n"
          ]
        }
      ]
    }
  ],
  "metadata": {
    "colab": {
      "provenance": []
    },
    "kernelspec": {
      "display_name": "Python 3",
      "name": "python3"
    }
  },
  "nbformat": 4,
  "nbformat_minor": 0
}